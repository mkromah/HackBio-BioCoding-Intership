{
  "nbformat": 4,
  "nbformat_minor": 0,
  "metadata": {
    "colab": {
      "provenance": [],
      "include_colab_link": true
    },
    "kernelspec": {
      "name": "ir",
      "display_name": "R"
    },
    "language_info": {
      "name": "R"
    }
  },
  "cells": [
    {
      "cell_type": "markdown",
      "metadata": {
        "id": "view-in-github",
        "colab_type": "text"
      },
      "source": [
        "<a href=\"https://colab.research.google.com/github/mkromah/HackBio-BioCoding-Intership/blob/main/HackBio_Internship_Assigment.ipynb\" target=\"_parent\"><img src=\"https://colab.research.google.com/assets/colab-badge.svg\" alt=\"Open In Colab\"/></a>"
      ]
    },
    {
      "cell_type": "code",
      "source": [
        "group_data <- data.frame(\n",
        "  Names = c(\"Nina Julian\",\"Fowowe Toyin\", \"Musa Al Hassan Kromah\", \"Sheriffdeen Hammed\"),\n",
        "  Slack_username = c (\"Julian\", \"Toyin\", \"Musa\", \"Sheriffdeen\"),\n",
        "  Email = c(\"anyangonina39@gmail.com\", \"toyintoyo05@gmail.com\", \"kromahmusa86@gmail.com\", \"hammedsheriffdeen77@gmail.com\"),\n",
        "  Hobby = c(\"listening to music\", \"reading\", \"hiking\", \"learning\"),\n",
        "  Country = c(\"Kenya\",\"Nigeria\", \"Liberia\", \"Nigeria\"),\n",
        "  Discipline = c(\"Biotechnology\", \"Biochemistry\", \"Biotechnology\", \"Biotechnology\"),\n",
        "  Programming_language = c(\"R\", \"python\", \"python\", \"R\")\n",
        ")\n",
        "print(group_data)"
      ],
      "metadata": {
        "colab": {
          "base_uri": "https://localhost:8080/"
        },
        "id": "Vg4Sf8qoZSCj",
        "outputId": "b1cdd8f1-a10d-4d72-d556-611619362631"
      },
      "execution_count": null,
      "outputs": [
        {
          "output_type": "stream",
          "name": "stdout",
          "text": [
            "                  Names Slack_username                         Email\n",
            "1           Nina Julian         Julian       anyangonina39@gmail.com\n",
            "2          Fowowe Toyin          Toyin         toyintoyo05@gmail.com\n",
            "3 Musa Al Hassan Kromah           Musa        kromahmusa86@gmail.com\n",
            "4    Sheriffdeen Hammed    Sheriffdeen hammedsheriffdeen77@gmail.com\n",
            "               Hobby Country    Discipline Programming_language\n",
            "1 listening to music   Kenya Biotechnology                    R\n",
            "2            reading Nigeria  Biochemistry               python\n",
            "3             hiking Liberia Biotechnology               python\n",
            "4           learning Nigeria Biotechnology                    R\n"
          ]
        }
      ]
    },
    {
      "cell_type": "markdown",
      "source": [],
      "metadata": {
        "id": "VdqXIb92G5d6"
      }
    },
    {
      "cell_type": "markdown",
      "source": [],
      "metadata": {
        "id": "YLNQ496-G6uz"
      }
    }
  ]
}