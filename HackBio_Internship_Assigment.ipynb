## **📌 README for Stage 1: Microbial Growth Curve Analysis**  
```plaintext
# **HackBio Internship – Stage 1: Microbial Growth Curve Analysis**

## **📌 Table of Contents**
1. [Introduction](#introduction)
2. [Objective](#objective)
3. [Dataset](#dataset)
4. [Approach](#approach)
5. [Code Implementation](#code-implementation)
6. [Results & Visualization](#results--visualization)
7. [Contributors](#contributors)
8. [Contact & Socials](#contact--socials)

---

## **Introduction**
In **Stage 1**, we analyze microbial growth patterns by plotting **optical density (OD600)** over time. This helps us understand bacterial growth dynamics and mutation effects.

---

## **Objective**
- Analyze microbial growth curves for **knockout (-) and knock-in (+) strains**.
- Compute **time to carrying capacity**.
- Visualize trends using **scatter and line plots**.

---

## **Dataset**
We work with a dataset containing microbial growth data:

| Time (hours) | OD600 (-) | OD600 (+) |
|-------------|----------|----------|
| 0           | 0.05     | 0.04     |
| 1           | 0.08     | 0.09     |
| 2           | 0.15     | 0.16     |

---

## **Approach**
- Load data using **Pandas**.
- Visualize trends using **Matplotlib & Seaborn**.
- Perform **statistical comparison** between growth conditions.

---

## **Code Implementation**
```python
import pandas as pd
import matplotlib.pyplot as plt
import seaborn as sns

# Load dataset
data = pd.read_csv("microbial_growth.csv")

# Create a line plot
plt.figure(figsize=(8,5))
sns.lineplot(data=data, x="Time", y="OD600", hue="Condition", marker="o")

# Customize plot
plt.xlabel("Time (hours)")
plt.ylabel("Optical Density (OD600)")
plt.title("Microbial Growth Curve")
plt.legend(title="Condition")

# Display plot
plt.show()

## Results & Visualization
We successfully generated a growth curve plot visualizing bacterial growth differences.
